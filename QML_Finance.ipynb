{
  "cells": [
    {
      "cell_type": "markdown",
      "metadata": {
        "id": "view-in-github",
        "colab_type": "text"
      },
      "source": [
        "<a href=\"https://colab.research.google.com/github/AndrewSpiro/CVQC/blob/main/QML_Finance.ipynb\" target=\"_parent\"><img src=\"https://colab.research.google.com/assets/colab-badge.svg\" alt=\"Open In Colab\"/></a>"
      ]
    },
    {
      "cell_type": "code",
      "execution_count": 98,
      "metadata": {
        "colab": {
          "base_uri": "https://localhost:8080/",
          "height": 73
        },
        "id": "LRDNRoOXlGML",
        "outputId": "04b249f3-620c-46e0-8388-68116c4fc3c9"
      },
      "outputs": [
        {
          "output_type": "display_data",
          "data": {
            "text/plain": [
              "<IPython.core.display.HTML object>"
            ],
            "text/html": [
              "\n",
              "     <input type=\"file\" id=\"files-0d8f42b5-5b8d-402d-af89-afd25efea872\" name=\"files[]\" multiple disabled\n",
              "        style=\"border:none\" />\n",
              "     <output id=\"result-0d8f42b5-5b8d-402d-af89-afd25efea872\">\n",
              "      Upload widget is only available when the cell has been executed in the\n",
              "      current browser session. Please rerun this cell to enable.\n",
              "      </output>\n",
              "      <script>// Copyright 2017 Google LLC\n",
              "//\n",
              "// Licensed under the Apache License, Version 2.0 (the \"License\");\n",
              "// you may not use this file except in compliance with the License.\n",
              "// You may obtain a copy of the License at\n",
              "//\n",
              "//      http://www.apache.org/licenses/LICENSE-2.0\n",
              "//\n",
              "// Unless required by applicable law or agreed to in writing, software\n",
              "// distributed under the License is distributed on an \"AS IS\" BASIS,\n",
              "// WITHOUT WARRANTIES OR CONDITIONS OF ANY KIND, either express or implied.\n",
              "// See the License for the specific language governing permissions and\n",
              "// limitations under the License.\n",
              "\n",
              "/**\n",
              " * @fileoverview Helpers for google.colab Python module.\n",
              " */\n",
              "(function(scope) {\n",
              "function span(text, styleAttributes = {}) {\n",
              "  const element = document.createElement('span');\n",
              "  element.textContent = text;\n",
              "  for (const key of Object.keys(styleAttributes)) {\n",
              "    element.style[key] = styleAttributes[key];\n",
              "  }\n",
              "  return element;\n",
              "}\n",
              "\n",
              "// Max number of bytes which will be uploaded at a time.\n",
              "const MAX_PAYLOAD_SIZE = 100 * 1024;\n",
              "\n",
              "function _uploadFiles(inputId, outputId) {\n",
              "  const steps = uploadFilesStep(inputId, outputId);\n",
              "  const outputElement = document.getElementById(outputId);\n",
              "  // Cache steps on the outputElement to make it available for the next call\n",
              "  // to uploadFilesContinue from Python.\n",
              "  outputElement.steps = steps;\n",
              "\n",
              "  return _uploadFilesContinue(outputId);\n",
              "}\n",
              "\n",
              "// This is roughly an async generator (not supported in the browser yet),\n",
              "// where there are multiple asynchronous steps and the Python side is going\n",
              "// to poll for completion of each step.\n",
              "// This uses a Promise to block the python side on completion of each step,\n",
              "// then passes the result of the previous step as the input to the next step.\n",
              "function _uploadFilesContinue(outputId) {\n",
              "  const outputElement = document.getElementById(outputId);\n",
              "  const steps = outputElement.steps;\n",
              "\n",
              "  const next = steps.next(outputElement.lastPromiseValue);\n",
              "  return Promise.resolve(next.value.promise).then((value) => {\n",
              "    // Cache the last promise value to make it available to the next\n",
              "    // step of the generator.\n",
              "    outputElement.lastPromiseValue = value;\n",
              "    return next.value.response;\n",
              "  });\n",
              "}\n",
              "\n",
              "/**\n",
              " * Generator function which is called between each async step of the upload\n",
              " * process.\n",
              " * @param {string} inputId Element ID of the input file picker element.\n",
              " * @param {string} outputId Element ID of the output display.\n",
              " * @return {!Iterable<!Object>} Iterable of next steps.\n",
              " */\n",
              "function* uploadFilesStep(inputId, outputId) {\n",
              "  const inputElement = document.getElementById(inputId);\n",
              "  inputElement.disabled = false;\n",
              "\n",
              "  const outputElement = document.getElementById(outputId);\n",
              "  outputElement.innerHTML = '';\n",
              "\n",
              "  const pickedPromise = new Promise((resolve) => {\n",
              "    inputElement.addEventListener('change', (e) => {\n",
              "      resolve(e.target.files);\n",
              "    });\n",
              "  });\n",
              "\n",
              "  const cancel = document.createElement('button');\n",
              "  inputElement.parentElement.appendChild(cancel);\n",
              "  cancel.textContent = 'Cancel upload';\n",
              "  const cancelPromise = new Promise((resolve) => {\n",
              "    cancel.onclick = () => {\n",
              "      resolve(null);\n",
              "    };\n",
              "  });\n",
              "\n",
              "  // Wait for the user to pick the files.\n",
              "  const files = yield {\n",
              "    promise: Promise.race([pickedPromise, cancelPromise]),\n",
              "    response: {\n",
              "      action: 'starting',\n",
              "    }\n",
              "  };\n",
              "\n",
              "  cancel.remove();\n",
              "\n",
              "  // Disable the input element since further picks are not allowed.\n",
              "  inputElement.disabled = true;\n",
              "\n",
              "  if (!files) {\n",
              "    return {\n",
              "      response: {\n",
              "        action: 'complete',\n",
              "      }\n",
              "    };\n",
              "  }\n",
              "\n",
              "  for (const file of files) {\n",
              "    const li = document.createElement('li');\n",
              "    li.append(span(file.name, {fontWeight: 'bold'}));\n",
              "    li.append(span(\n",
              "        `(${file.type || 'n/a'}) - ${file.size} bytes, ` +\n",
              "        `last modified: ${\n",
              "            file.lastModifiedDate ? file.lastModifiedDate.toLocaleDateString() :\n",
              "                                    'n/a'} - `));\n",
              "    const percent = span('0% done');\n",
              "    li.appendChild(percent);\n",
              "\n",
              "    outputElement.appendChild(li);\n",
              "\n",
              "    const fileDataPromise = new Promise((resolve) => {\n",
              "      const reader = new FileReader();\n",
              "      reader.onload = (e) => {\n",
              "        resolve(e.target.result);\n",
              "      };\n",
              "      reader.readAsArrayBuffer(file);\n",
              "    });\n",
              "    // Wait for the data to be ready.\n",
              "    let fileData = yield {\n",
              "      promise: fileDataPromise,\n",
              "      response: {\n",
              "        action: 'continue',\n",
              "      }\n",
              "    };\n",
              "\n",
              "    // Use a chunked sending to avoid message size limits. See b/62115660.\n",
              "    let position = 0;\n",
              "    do {\n",
              "      const length = Math.min(fileData.byteLength - position, MAX_PAYLOAD_SIZE);\n",
              "      const chunk = new Uint8Array(fileData, position, length);\n",
              "      position += length;\n",
              "\n",
              "      const base64 = btoa(String.fromCharCode.apply(null, chunk));\n",
              "      yield {\n",
              "        response: {\n",
              "          action: 'append',\n",
              "          file: file.name,\n",
              "          data: base64,\n",
              "        },\n",
              "      };\n",
              "\n",
              "      let percentDone = fileData.byteLength === 0 ?\n",
              "          100 :\n",
              "          Math.round((position / fileData.byteLength) * 100);\n",
              "      percent.textContent = `${percentDone}% done`;\n",
              "\n",
              "    } while (position < fileData.byteLength);\n",
              "  }\n",
              "\n",
              "  // All done.\n",
              "  yield {\n",
              "    response: {\n",
              "      action: 'complete',\n",
              "    }\n",
              "  };\n",
              "}\n",
              "\n",
              "scope.google = scope.google || {};\n",
              "scope.google.colab = scope.google.colab || {};\n",
              "scope.google.colab._files = {\n",
              "  _uploadFiles,\n",
              "  _uploadFilesContinue,\n",
              "};\n",
              "})(self);\n",
              "</script> "
            ]
          },
          "metadata": {}
        },
        {
          "output_type": "stream",
          "name": "stdout",
          "text": [
            "Saving AAPL max.csv to AAPL max (1).csv\n"
          ]
        }
      ],
      "source": [
        "from google.colab import files\n",
        "uploaded = files.upload()"
      ]
    },
    {
      "cell_type": "code",
      "execution_count": 99,
      "metadata": {
        "colab": {
          "base_uri": "https://localhost:8080/"
        },
        "id": "WBWEFUf8OtBd",
        "outputId": "e28c94b2-4eb3-4d04-b8cf-69dc5fd6fb15"
      },
      "outputs": [
        {
          "output_type": "stream",
          "name": "stdout",
          "text": [
            "Looking in indexes: https://pypi.org/simple, https://us-python.pkg.dev/colab-wheels/public/simple/\n",
            "Requirement already satisfied: scikit-learn in /usr/local/lib/python3.10/dist-packages (1.2.2)\n",
            "Requirement already satisfied: numpy>=1.17.3 in /usr/local/lib/python3.10/dist-packages (from scikit-learn) (1.22.4)\n",
            "Requirement already satisfied: scipy>=1.3.2 in /usr/local/lib/python3.10/dist-packages (from scikit-learn) (1.10.1)\n",
            "Requirement already satisfied: joblib>=1.1.1 in /usr/local/lib/python3.10/dist-packages (from scikit-learn) (1.2.0)\n",
            "Requirement already satisfied: threadpoolctl>=2.0.0 in /usr/local/lib/python3.10/dist-packages (from scikit-learn) (3.1.0)\n"
          ]
        }
      ],
      "source": [
        "!pip install scikit-learn"
      ]
    },
    {
      "cell_type": "code",
      "execution_count": 100,
      "metadata": {
        "colab": {
          "base_uri": "https://localhost:8080/"
        },
        "id": "6twnHJ_oLxXg",
        "outputId": "83c65cca-0aee-41dd-8738-8a091c51442e"
      },
      "outputs": [
        {
          "output_type": "stream",
          "name": "stdout",
          "text": [
            "Looking in indexes: https://pypi.org/simple, https://us-python.pkg.dev/colab-wheels/public/simple/\n",
            "Requirement already satisfied: tqdm in /usr/local/lib/python3.10/dist-packages (4.65.0)\n"
          ]
        }
      ],
      "source": [
        "!pip install tqdm"
      ]
    },
    {
      "cell_type": "code",
      "execution_count": 101,
      "metadata": {
        "colab": {
          "base_uri": "https://localhost:8080/"
        },
        "id": "W3hWOpY3wrdT",
        "outputId": "5542c887-df7c-40ac-9dad-068352f8ab3b"
      },
      "outputs": [
        {
          "output_type": "stream",
          "name": "stdout",
          "text": [
            "Looking in indexes: https://pypi.org/simple, https://us-python.pkg.dev/colab-wheels/public/simple/\n",
            "Requirement already satisfied: pennylane in /usr/local/lib/python3.10/dist-packages (0.30.0)\n",
            "Requirement already satisfied: numpy<1.24 in /usr/local/lib/python3.10/dist-packages (from pennylane) (1.22.4)\n",
            "Requirement already satisfied: scipy in /usr/local/lib/python3.10/dist-packages (from pennylane) (1.10.1)\n",
            "Requirement already satisfied: networkx in /usr/local/lib/python3.10/dist-packages (from pennylane) (3.1)\n",
            "Requirement already satisfied: rustworkx in /usr/local/lib/python3.10/dist-packages (from pennylane) (0.13.0)\n",
            "Requirement already satisfied: autograd in /usr/local/lib/python3.10/dist-packages (from pennylane) (1.5)\n",
            "Requirement already satisfied: toml in /usr/local/lib/python3.10/dist-packages (from pennylane) (0.10.2)\n",
            "Requirement already satisfied: appdirs in /usr/local/lib/python3.10/dist-packages (from pennylane) (1.4.4)\n",
            "Requirement already satisfied: semantic-version>=2.7 in /usr/local/lib/python3.10/dist-packages (from pennylane) (2.10.0)\n",
            "Requirement already satisfied: autoray>=0.3.1 in /usr/local/lib/python3.10/dist-packages (from pennylane) (0.6.3)\n",
            "Requirement already satisfied: cachetools in /usr/local/lib/python3.10/dist-packages (from pennylane) (5.3.0)\n",
            "Requirement already satisfied: pennylane-lightning>=0.30 in /usr/local/lib/python3.10/dist-packages (from pennylane) (0.30.0)\n",
            "Requirement already satisfied: requests in /usr/local/lib/python3.10/dist-packages (from pennylane) (2.27.1)\n",
            "Requirement already satisfied: future>=0.15.2 in /usr/local/lib/python3.10/dist-packages (from autograd->pennylane) (0.18.3)\n",
            "Requirement already satisfied: urllib3<1.27,>=1.21.1 in /usr/local/lib/python3.10/dist-packages (from requests->pennylane) (1.26.15)\n",
            "Requirement already satisfied: certifi>=2017.4.17 in /usr/local/lib/python3.10/dist-packages (from requests->pennylane) (2022.12.7)\n",
            "Requirement already satisfied: charset-normalizer~=2.0.0 in /usr/local/lib/python3.10/dist-packages (from requests->pennylane) (2.0.12)\n",
            "Requirement already satisfied: idna<4,>=2.5 in /usr/local/lib/python3.10/dist-packages (from requests->pennylane) (3.4)\n"
          ]
        }
      ],
      "source": [
        "!pip install pennylane"
      ]
    },
    {
      "cell_type": "code",
      "execution_count": 102,
      "metadata": {
        "id": "90lDBjOHnSfq"
      },
      "outputs": [],
      "source": [
        "import pandas as pd\n",
        "from matplotlib import pyplot as plt\n",
        "from scipy import signal\n",
        "from sklearn import metrics\n",
        "import pennylane as qml\n",
        "from pennylane import numpy as np\n",
        "from tqdm import tqdm\n",
        "from sklearn.preprocessing import MinMaxScaler\n",
        "import numpy"
      ]
    },
    {
      "cell_type": "code",
      "execution_count": 258,
      "metadata": {
        "colab": {
          "base_uri": "https://localhost:8080/",
          "height": 424
        },
        "id": "eznoHGWL9izY",
        "outputId": "292779c4-f15e-4242-bc33-3909dd4372a2"
      },
      "outputs": [
        {
          "output_type": "execute_result",
          "data": {
            "text/plain": [
              "             Date       Close\n",
              "0      1980-12-12    0.128348\n",
              "1      1980-12-15    0.121652\n",
              "2      1980-12-16    0.112723\n",
              "3      1980-12-17    0.115513\n",
              "4      1980-12-18    0.118862\n",
              "...           ...         ...\n",
              "10712  2023-06-09  180.960007\n",
              "10713  2023-06-12  183.789993\n",
              "10714  2023-06-13  183.309998\n",
              "10715  2023-06-14  183.949997\n",
              "10716  2023-06-15  186.009995\n",
              "\n",
              "[10717 rows x 2 columns]"
            ],
            "text/html": [
              "\n",
              "  <div id=\"df-e13e1986-d3ce-47c7-92cc-327d566d67d2\">\n",
              "    <div class=\"colab-df-container\">\n",
              "      <div>\n",
              "<style scoped>\n",
              "    .dataframe tbody tr th:only-of-type {\n",
              "        vertical-align: middle;\n",
              "    }\n",
              "\n",
              "    .dataframe tbody tr th {\n",
              "        vertical-align: top;\n",
              "    }\n",
              "\n",
              "    .dataframe thead th {\n",
              "        text-align: right;\n",
              "    }\n",
              "</style>\n",
              "<table border=\"1\" class=\"dataframe\">\n",
              "  <thead>\n",
              "    <tr style=\"text-align: right;\">\n",
              "      <th></th>\n",
              "      <th>Date</th>\n",
              "      <th>Close</th>\n",
              "    </tr>\n",
              "  </thead>\n",
              "  <tbody>\n",
              "    <tr>\n",
              "      <th>0</th>\n",
              "      <td>1980-12-12</td>\n",
              "      <td>0.128348</td>\n",
              "    </tr>\n",
              "    <tr>\n",
              "      <th>1</th>\n",
              "      <td>1980-12-15</td>\n",
              "      <td>0.121652</td>\n",
              "    </tr>\n",
              "    <tr>\n",
              "      <th>2</th>\n",
              "      <td>1980-12-16</td>\n",
              "      <td>0.112723</td>\n",
              "    </tr>\n",
              "    <tr>\n",
              "      <th>3</th>\n",
              "      <td>1980-12-17</td>\n",
              "      <td>0.115513</td>\n",
              "    </tr>\n",
              "    <tr>\n",
              "      <th>4</th>\n",
              "      <td>1980-12-18</td>\n",
              "      <td>0.118862</td>\n",
              "    </tr>\n",
              "    <tr>\n",
              "      <th>...</th>\n",
              "      <td>...</td>\n",
              "      <td>...</td>\n",
              "    </tr>\n",
              "    <tr>\n",
              "      <th>10712</th>\n",
              "      <td>2023-06-09</td>\n",
              "      <td>180.960007</td>\n",
              "    </tr>\n",
              "    <tr>\n",
              "      <th>10713</th>\n",
              "      <td>2023-06-12</td>\n",
              "      <td>183.789993</td>\n",
              "    </tr>\n",
              "    <tr>\n",
              "      <th>10714</th>\n",
              "      <td>2023-06-13</td>\n",
              "      <td>183.309998</td>\n",
              "    </tr>\n",
              "    <tr>\n",
              "      <th>10715</th>\n",
              "      <td>2023-06-14</td>\n",
              "      <td>183.949997</td>\n",
              "    </tr>\n",
              "    <tr>\n",
              "      <th>10716</th>\n",
              "      <td>2023-06-15</td>\n",
              "      <td>186.009995</td>\n",
              "    </tr>\n",
              "  </tbody>\n",
              "</table>\n",
              "<p>10717 rows × 2 columns</p>\n",
              "</div>\n",
              "      <button class=\"colab-df-convert\" onclick=\"convertToInteractive('df-e13e1986-d3ce-47c7-92cc-327d566d67d2')\"\n",
              "              title=\"Convert this dataframe to an interactive table.\"\n",
              "              style=\"display:none;\">\n",
              "        \n",
              "  <svg xmlns=\"http://www.w3.org/2000/svg\" height=\"24px\"viewBox=\"0 0 24 24\"\n",
              "       width=\"24px\">\n",
              "    <path d=\"M0 0h24v24H0V0z\" fill=\"none\"/>\n",
              "    <path d=\"M18.56 5.44l.94 2.06.94-2.06 2.06-.94-2.06-.94-.94-2.06-.94 2.06-2.06.94zm-11 1L8.5 8.5l.94-2.06 2.06-.94-2.06-.94L8.5 2.5l-.94 2.06-2.06.94zm10 10l.94 2.06.94-2.06 2.06-.94-2.06-.94-.94-2.06-.94 2.06-2.06.94z\"/><path d=\"M17.41 7.96l-1.37-1.37c-.4-.4-.92-.59-1.43-.59-.52 0-1.04.2-1.43.59L10.3 9.45l-7.72 7.72c-.78.78-.78 2.05 0 2.83L4 21.41c.39.39.9.59 1.41.59.51 0 1.02-.2 1.41-.59l7.78-7.78 2.81-2.81c.8-.78.8-2.07 0-2.86zM5.41 20L4 18.59l7.72-7.72 1.47 1.35L5.41 20z\"/>\n",
              "  </svg>\n",
              "      </button>\n",
              "      \n",
              "  <style>\n",
              "    .colab-df-container {\n",
              "      display:flex;\n",
              "      flex-wrap:wrap;\n",
              "      gap: 12px;\n",
              "    }\n",
              "\n",
              "    .colab-df-convert {\n",
              "      background-color: #E8F0FE;\n",
              "      border: none;\n",
              "      border-radius: 50%;\n",
              "      cursor: pointer;\n",
              "      display: none;\n",
              "      fill: #1967D2;\n",
              "      height: 32px;\n",
              "      padding: 0 0 0 0;\n",
              "      width: 32px;\n",
              "    }\n",
              "\n",
              "    .colab-df-convert:hover {\n",
              "      background-color: #E2EBFA;\n",
              "      box-shadow: 0px 1px 2px rgba(60, 64, 67, 0.3), 0px 1px 3px 1px rgba(60, 64, 67, 0.15);\n",
              "      fill: #174EA6;\n",
              "    }\n",
              "\n",
              "    [theme=dark] .colab-df-convert {\n",
              "      background-color: #3B4455;\n",
              "      fill: #D2E3FC;\n",
              "    }\n",
              "\n",
              "    [theme=dark] .colab-df-convert:hover {\n",
              "      background-color: #434B5C;\n",
              "      box-shadow: 0px 1px 3px 1px rgba(0, 0, 0, 0.15);\n",
              "      filter: drop-shadow(0px 1px 2px rgba(0, 0, 0, 0.3));\n",
              "      fill: #FFFFFF;\n",
              "    }\n",
              "  </style>\n",
              "\n",
              "      <script>\n",
              "        const buttonEl =\n",
              "          document.querySelector('#df-e13e1986-d3ce-47c7-92cc-327d566d67d2 button.colab-df-convert');\n",
              "        buttonEl.style.display =\n",
              "          google.colab.kernel.accessAllowed ? 'block' : 'none';\n",
              "\n",
              "        async function convertToInteractive(key) {\n",
              "          const element = document.querySelector('#df-e13e1986-d3ce-47c7-92cc-327d566d67d2');\n",
              "          const dataTable =\n",
              "            await google.colab.kernel.invokeFunction('convertToInteractive',\n",
              "                                                     [key], {});\n",
              "          if (!dataTable) return;\n",
              "\n",
              "          const docLinkHtml = 'Like what you see? Visit the ' +\n",
              "            '<a target=\"_blank\" href=https://colab.research.google.com/notebooks/data_table.ipynb>data table notebook</a>'\n",
              "            + ' to learn more about interactive tables.';\n",
              "          element.innerHTML = '';\n",
              "          dataTable['output_type'] = 'display_data';\n",
              "          await google.colab.output.renderOutput(dataTable, element);\n",
              "          const docLink = document.createElement('div');\n",
              "          docLink.innerHTML = docLinkHtml;\n",
              "          element.appendChild(docLink);\n",
              "        }\n",
              "      </script>\n",
              "    </div>\n",
              "  </div>\n",
              "  "
            ]
          },
          "metadata": {},
          "execution_count": 258
        }
      ],
      "source": [
        "apple = pd.read_csv(\"AAPL max.csv\", usecols=[\"Close\", \"Date\"])\n",
        "apple"
      ]
    },
    {
      "cell_type": "code",
      "execution_count": 259,
      "metadata": {
        "colab": {
          "base_uri": "https://localhost:8080/",
          "height": 569
        },
        "id": "SXrgNWRfnUa9",
        "outputId": "0541d57e-1cb2-42bc-fb14-7de96358b752"
      },
      "outputs": [
        {
          "output_type": "stream",
          "name": "stdout",
          "text": [
            "[[1.28348000e-01]\n",
            " [1.21652000e-01]\n",
            " [1.12723000e-01]\n",
            " ...\n",
            " [1.83309998e+02]\n",
            " [1.83949997e+02]\n",
            " [1.86009995e+02]]\n"
          ]
        },
        {
          "output_type": "execute_result",
          "data": {
            "text/plain": [
              "[<matplotlib.lines.Line2D at 0x7fb819804400>]"
            ]
          },
          "metadata": {},
          "execution_count": 259
        },
        {
          "output_type": "display_data",
          "data": {
            "text/plain": [
              "<Figure size 640x480 with 1 Axes>"
            ],
            "image/png": "[encoded data removed]"
          },
          "metadata": {}
        }
      ],
      "source": [
        "apl = pd.read_csv(\"AAPL max.csv\", usecols = [\"Close\"])\n",
        "apl = pd.DataFrame.to_numpy(apl)\n",
        "np.concatenate(apl)\n",
        "#aapl = apl[:10080]  # Limiting dataset to what was used in the paper.\n",
        "sample_size = 201\n",
        "aapl = apl[:sample_size]  # A small sample to play around with\n",
        "print(apl)\n",
        "plt.plot(aapl)"
      ]
    },
    {
      "cell_type": "code",
      "execution_count": 260,
      "metadata": {
        "colab": {
          "base_uri": "https://localhost:8080/",
          "height": 452
        },
        "id": "fYAAs_fuZI9Y",
        "outputId": "3bed4a47-3aaa-4f37-8a3f-3018adb23aff"
      },
      "outputs": [
        {
          "output_type": "execute_result",
          "data": {
            "text/plain": [
              "<function matplotlib.pyplot.show(close=None, block=None)>"
            ]
          },
          "metadata": {},
          "execution_count": 260
        },
        {
          "output_type": "display_data",
          "data": {
            "text/plain": [
              "<Figure size 640x480 with 1 Axes>"
            ],
            "image/png": "[encoded data removed]"
          },
          "metadata": {}
        }
      ],
      "source": [
        "N = sample_size -1\n",
        "pc = np.zeros((N,1))\n",
        "for i in range(N-1):\n",
        "  pc[i] = (aapl[i+1]-aapl[i])/aapl[i]\n",
        "\n",
        "plt.scatter(np.linspace(0,N,N),pc)\n",
        "plt.ylim(-0.6,0.6)\n",
        "plt.show"
      ]
    },
    {
      "cell_type": "code",
      "execution_count": 261,
      "metadata": {
        "colab": {
          "base_uri": "https://localhost:8080/"
        },
        "id": "7NzFL6KlbXhW",
        "outputId": "472bafb8-f60f-4373-de32-d40e28c61f9a"
      },
      "outputs": [
        {
          "output_type": "stream",
          "name": "stdout",
          "text": [
            "200\n"
          ]
        }
      ],
      "source": [
        "print(len(pc))"
      ]
    },
    {
      "cell_type": "code",
      "execution_count": 262,
      "metadata": {
        "colab": {
          "base_uri": "https://localhost:8080/"
        },
        "id": "TIgaUz-daSOe",
        "outputId": "7f0b9fc3-46a6-4297-e445-dc286d2a931b"
      },
      "outputs": [
        {
          "output_type": "stream",
          "name": "stderr",
          "text": [
            "100%|██████████| 100/100 [00:01<00:00, 76.63it/s]\n"
          ]
        }
      ],
      "source": [
        "P = np.zeros((N//2,1))\n",
        "nu = np.zeros((N//2,1))\n",
        "for k in tqdm(range(N//2)):\n",
        "    sum = 0\n",
        "    for i in range(N):\n",
        "        sum += (pc[i] * np.exp(2 * np.pi * i * k * 1j * 1/N))\n",
        "    P[k] = np.abs(sum)**2\n",
        "    nu[k] = k/N"
      ]
    },
    {
      "cell_type": "code",
      "execution_count": 263,
      "metadata": {
        "colab": {
          "base_uri": "https://localhost:8080/",
          "height": 503
        },
        "id": "95bdHxUGcFPq",
        "outputId": "4d988823-0d72-4da3-84ee-a2d44a9f4cc6"
      },
      "outputs": [
        {
          "output_type": "stream",
          "name": "stdout",
          "text": [
            "[[1.25518002]\n",
            " [1.09236469]\n",
            " [1.17578809]]\n",
            "[tensor([0.07], requires_grad=True), tensor([0.085], requires_grad=True), tensor([0.155], requires_grad=True)]\n"
          ]
        },
        {
          "output_type": "display_data",
          "data": {
            "text/plain": [
              "<Figure size 640x480 with 1 Axes>"
            ],
            "image/png": "[encoded data removed]"
          },
          "metadata": {}
        }
      ],
      "source": [
        "threshold = 1\n",
        "plt.loglog(nu, P)\n",
        "\n",
        "amp2 = []\n",
        "DC = []\n",
        "for i in range(N//2):\n",
        "    if P[i] > threshold:\n",
        "      amp2.append(P[i])\n",
        "      DC.append(nu[i])\n",
        "amp = np.sqrt(amp2)\n",
        "print(amp)\n",
        "print(DC)"
      ]
    },
    {
      "cell_type": "code",
      "execution_count": 264,
      "metadata": {
        "colab": {
          "base_uri": "https://localhost:8080/"
        },
        "id": "E_NH2mE0pfHP",
        "outputId": "b7825407-aa15-461e-f4a8-951638c873e1"
      },
      "outputs": [
        {
          "output_type": "execute_result",
          "data": {
            "text/plain": [
              "tensor([[[1],\n",
              "         [2],\n",
              "         [3],\n",
              "         [4]],\n",
              "\n",
              "        [[5],\n",
              "         [6],\n",
              "         [7],\n",
              "         [8]]], requires_grad=True)"
            ]
          },
          "metadata": {},
          "execution_count": 264
        }
      ],
      "source": [
        "a = np.array([[1,2,3,4],[5,6,7,8]])\n",
        "a.reshape((2,4,1))"
      ]
    },
    {
      "cell_type": "code",
      "execution_count": 265,
      "metadata": {
        "id": "Iwu731pYo2hY"
      },
      "outputs": [],
      "source": [
        "c_n = [0, 0.2, 0.5, 0.8, 1]\n",
        "noise = np.random.uniform(0,1,N) * (c_n[0])\n",
        "noise = noise.reshape((N,1))\n",
        "trend = np.array([np.zeros(N), 5e-2 * np.linspace(0,N,N), 2* 5e-5 * np.square(np.linspace(0,N,N))])\n",
        "trend = trend.reshape(3,N,1)"
      ]
    },
    {
      "cell_type": "code",
      "execution_count": 266,
      "metadata": {
        "colab": {
          "base_uri": "https://localhost:8080/"
        },
        "id": "LwoMgxUWhmI_",
        "outputId": "fc1423e7-a5d7-4fcc-fea1-27c62b792155"
      },
      "outputs": [
        {
          "output_type": "execute_result",
          "data": {
            "text/plain": [
              "tensor([[0.],\n",
              "        [0.],\n",
              "        [0.],\n",
              "        [0.],\n",
              "        [0.]], requires_grad=True)"
            ]
          },
          "metadata": {},
          "execution_count": 266
        }
      ],
      "source": [
        "a = np.zeros((5,2))\n",
        "a = np.sum(a, axis = -1)\n",
        "a =a.reshape(5,1)\n",
        "a"
      ]
    },
    {
      "cell_type": "code",
      "execution_count": 267,
      "metadata": {
        "colab": {
          "base_uri": "https://localhost:8080/",
          "height": 447
        },
        "id": "Cd5AY6yYeiTB",
        "outputId": "26f59a7d-3644-4c93-ff0a-22826314d887"
      },
      "outputs": [
        {
          "output_type": "execute_result",
          "data": {
            "text/plain": [
              "[<matplotlib.lines.Line2D at 0x7fb819490f70>]"
            ]
          },
          "metadata": {},
          "execution_count": 267
        },
        {
          "output_type": "display_data",
          "data": {
            "text/plain": [
              "<Figure size 640x480 with 1 Axes>"
            ],
            "image/png": "[encoded data removed]"
          },
          "metadata": {}
        }
      ],
      "source": [
        "num_components = len(DC)\n",
        "DC_sample = DC[0:num_components]\n",
        "amp_sample = amp[0:num_components]\n",
        "interval = (np.linspace(0,N,N)).reshape((N,1))\n",
        "components = np.zeros((N,num_components))\n",
        "for i in range(N):\n",
        "    for j in range(num_components):\n",
        "        components[i][j] = amp_sample[j] + np.sin(DC_sample[j] * interval[i])\n",
        "DC_signal = np.sum(components, axis = -1)\n",
        "DC_signal = DC_signal.reshape(N,1)\n",
        "full_signal = DC_signal + noise + trend[0]\n",
        "plt.plot(range(N),full_signal)"
      ]
    },
    {
      "cell_type": "code",
      "execution_count": 278,
      "metadata": {
        "colab": {
          "base_uri": "https://localhost:8080/"
        },
        "id": "PO0crIQR7zgh",
        "outputId": "cadb3199-a804-4345-fff6-7515a0bf3d59"
      },
      "outputs": [
        {
          "output_type": "stream",
          "name": "stdout",
          "text": [
            "4\n"
          ]
        },
        {
          "output_type": "execute_result",
          "data": {
            "text/plain": [
              "tensor(0.26816914, requires_grad=True)"
            ]
          },
          "metadata": {},
          "execution_count": 278
        }
      ],
      "source": [
        "r = num_components\n",
        "#r = 16  # Following the paper\n",
        "N_QUBITS = (r + 1)\n",
        "print(N_QUBITS)\n",
        "n_layers = 2\n",
        "\n",
        "dev = qml.device('default.qubit', wires= N_QUBITS)\n",
        "\n",
        "def block(weights):\n",
        "    for i in range(1,N_QUBITS):\n",
        "        qml.IsingXX(weights[0][i-1], wires=[0, i])  # Are the qubits in the right place?\n",
        "    for i in range(1,N_QUBITS):\n",
        "        qml.IsingZZ(weights[1][i-1], wires=[0, i])\n",
        "    for i in range(1,N_QUBITS):\n",
        "        qml.IsingYY(weights[2][i-1], wires=[0, i])\n",
        "\n",
        "@qml.qnode(dev, interface=\"autograd\")\n",
        "def PQC(weights,x):\n",
        "    qml.AngleEmbedding(x,wires=range(N_QUBITS)[1:])   # Features x are embedded in rotation angles\n",
        "    for j in range(n_layers):\n",
        "      block(weights[j])\n",
        "    return qml.expval(qml.PauliZ(wires=0))\n",
        "\n",
        "weights = 2 * np.pi * np.random.random(size=(n_layers, 3, r), requires_grad=True)\n",
        "x = 2 * np.pi *np.random.random(size = (r))\n",
        "\n",
        "PQC(weights, x)"
      ]
    },
    {
      "cell_type": "code",
      "execution_count": 289,
      "metadata": {
        "colab": {
          "base_uri": "https://localhost:8080/"
        },
        "id": "5-2m13qRxbFx",
        "outputId": "14c6c2cc-9475-489b-e0f7-96ccff0d7d94"
      },
      "outputs": [
        {
          "output_type": "stream",
          "name": "stdout",
          "text": [
            "[[0.48744154 0.52499089 0.56196903 0.5978165 ]\n",
            " [0.63199706 0.66400866 0.69339359 0.71974757]\n",
            " [0.74272773 0.76205904 0.77753927 0.78904229]\n",
            " [0.79651957 0.8        0.79958789 0.79545935]\n",
            " [0.787857   0.77708327 0.76349241 0.74748135]\n",
            " [0.72947973 0.70993933 0.68932302 0.66809374]\n",
            " [0.64670352 0.62558304 0.60513176 0.585709  ]\n",
            " [0.56762621 0.55114038 0.53644907 0.52368692]\n",
            " [0.5129238  0.50416467 0.49735106 0.49236427]\n",
            " [0.48902999 0.4871244  0.48638149 0.4865015 ]\n",
            " [0.48716011 0.48801831 0.48873262 0.48896537]\n",
            " [0.48839486 0.48672506 0.48369467 0.47908525]\n",
            " [0.47272827 0.46451085 0.45438004 0.44234563]\n",
            " [0.42848119 0.41292358 0.39587073 0.37757783]\n",
            " [0.35835196 0.33854539 0.31854758 0.29877613]\n",
            " [0.27966694 0.26166376 0.24520733 0.23072459]\n",
            " [0.2186179  0.20925487 0.20295878 0.2       ]\n",
            " [0.20058854 0.20486791 0.21291058 0.2247149 ]\n",
            " [0.24020385 0.25922547 0.28155499 0.30689878]\n",
            " [0.33489975 0.36514437 0.39717093 0.43047903]\n",
            " [0.46453992 0.49880757 0.53273015 0.56576167]\n",
            " [0.59737356 0.62706577 0.65437735 0.67889608]\n",
            " [0.70026698 0.71819958 0.73247365 0.74294336]\n",
            " [0.74953977 0.75227149 0.75122365 0.7465551 ]\n",
            " [0.73849397 0.72733165 0.71341538 0.69713964]\n",
            " [0.67893647 0.65926504 0.63860071 0.61742377]\n",
            " [0.59620823 0.57541082 0.5554606  0.53674926]\n",
            " [0.51962248 0.50437247 0.49123189 0.48036934]\n",
            " [0.47188636 0.46581623 0.46212439 0.46071062]\n",
            " [0.46141275 0.46401197 0.46823952 0.47378451]\n",
            " [0.48030287 0.48742703 0.4947761  0.50196647]\n",
            " [0.50862227 0.51438574 0.51892702 0.52195321]\n",
            " [0.52321651 0.52252116 0.51972899 0.5147636 ]]\n",
            "[0. 0. 0. 0. 0.]\n",
            "[[0.49832988 0.48703202 0.47389868 0.45916712]\n",
            " [0.44312697 0.4261133  0.40849854 0.39068336]\n",
            " [0.37308679 0.3561358  0.34025466 0.32585416]\n",
            " [0.31332119 0.30300882 0.29522703 0.29023457]\n",
            " [0.28823191 0.28935557 0.293674   0.301185  ]\n",
            " [0.31181494 0.32541957 0.34178661 0.36063997]\n",
            " [0.38164549 0.40441812 0.42853038 0.45352179]\n",
            " [0.47890924 0.50419783 0.52889212 0.55250741]\n",
            " [0.57458083 0.59468189 0.61242242 0.62746545]\n",
            " [0.63953293 0.64841216 0.6539606  0.65610913]\n",
            " [0.65486354 0.65030437 0.64258486 0.63192735]\n",
            " [0.61861797 0.60299989 0.58546524 0.56644589]\n",
            " [0.54640335 0.5258179  0.50517748 0.48496621]\n",
            " [0.46565327 0.44768193 0.43145945 0.41734768]\n",
            " [0.40565491 0.39662891 0.39045152 0.38723477]\n",
            " [0.38701871 0.38977095 0.39538792 0.40369788]]\n"
          ]
        }
      ],
      "source": [
        "train = full_signal[:int(N*2/3)]\n",
        "test = full_signal[int(N*2/3):]\n",
        "\n",
        "train_size = (len(train)//N_QUBITS) * N_QUBITS\n",
        "test_size = (len(test)//N_QUBITS) * N_QUBITS\n",
        "\n",
        "train = train[:train_size]\n",
        "test = test[:test_size]\n",
        "\n",
        "scaler = MinMaxScaler((0.2,0.8))\n",
        "scaler.fit(train)\n",
        "scaled_train = scaler.transform(train)\n",
        "scaled_test = scaler.transform(test)\n",
        "\n",
        "grouped_train = scaled_train.reshape(train_size//N_QUBITS, N_QUBITS)\n",
        "grouped_test = scaled_test.reshape(test_size//N_QUBITS, N_QUBITS)\n",
        "print(grouped_train)\n",
        "print(np.zeros(5))\n",
        "print(grouped_test)\n",
        "\n",
        "final_train = grouped_train\n",
        "final_test = grouped_test"
      ]
    },
    {
      "cell_type": "code",
      "source": [
        "print(grouped_train.shape)\n",
        "print(final_train.shape)\n",
        "print(grouped_test.shape)\n",
        "print(final_test.shape)\n",
        "print(train_size//N_QUBITS)"
      ],
      "metadata": {
        "colab": {
          "base_uri": "https://localhost:8080/"
        },
        "id": "dRuj6JVTAKPm",
        "outputId": "3daaa52d-0e47-4214-83d5-85ba86ab135f"
      },
      "execution_count": 280,
      "outputs": [
        {
          "output_type": "stream",
          "name": "stdout",
          "text": [
            "(33, 4)\n",
            "(33, 4)\n",
            "(16, 4)\n",
            "(16, 4)\n",
            "33\n"
          ]
        }
      ]
    },
    {
      "cell_type": "code",
      "execution_count": 271,
      "metadata": {
        "id": "wunO2LiVqmHZ"
      },
      "outputs": [],
      "source": [
        "#train = full_signal[:int(N*2/3)]\n",
        "#test = full_signal[int(N*2/3):]\n",
        "#\n",
        "#train_size = (len(train)//N_QUBITS) * N_QUBITS\n",
        "#test_size = (len(test)//N_QUBITS) * N_QUBITS\n",
        "#\n",
        "#train = train[:train_size]\n",
        "#test = test[:test_size]\n",
        "#\n",
        "#grouped_train = train.reshape(train_size//N_QUBITS, N_QUBITS)\n",
        "#grouped_test = test.reshape(test_size//N_QUBITS, N_QUBITS)\n",
        "#\n",
        "#scaler = MinMaxScaler((0.2,0.8))\n",
        "#scaler.fit(train)\n",
        "#scaled_train = scaler.transform(train)\n",
        "#scaled_test = scaler.transform(test)\n",
        "#\n",
        "#final_train = scaled_train\n",
        "#final_test_ = scaled_test"
      ]
    },
    {
      "cell_type": "code",
      "execution_count": 290,
      "metadata": {
        "id": "kltfe7ZszUf7"
      },
      "outputs": [],
      "source": [
        "def square_loss(targets, predictions):\n",
        "    loss = 0\n",
        "    for t, p in zip(targets, predictions):\n",
        "        loss += (t - p) ** 2\n",
        "    loss = loss / len(targets)\n",
        "\n",
        "    return 0.5*loss\n",
        "\n",
        "def cost(weights, x, y):\n",
        "    predictions = [PQC(weights, x_) for x_ in x]\n",
        "    return square_loss(y, predictions)"
      ]
    },
    {
      "cell_type": "code",
      "execution_count": 291,
      "metadata": {
        "id": "Qwz98CdirzKM"
      },
      "outputs": [],
      "source": [
        "x = np.zeros((train_size//N_QUBITS, r))\n",
        "target_y = np.zeros((train_size//N_QUBITS,1))\n",
        "for i in range(train_size//N_QUBITS):\n",
        "  x[i] = final_train[i][:-1]\n",
        "  target_y[i] = final_train[i][-1]"
      ]
    },
    {
      "cell_type": "code",
      "execution_count": 293,
      "metadata": {
        "id": "Oj2_3OnNG_pC"
      },
      "outputs": [],
      "source": [
        "max_steps = 10\n",
        "opt = qml.AdamOptimizer(.1)\n",
        "batch_size = train_size//max_steps\n",
        "cst = [cost(weights, x, target_y)]  # initial cost"
      ]
    },
    {
      "cell_type": "code",
      "execution_count": 294,
      "metadata": {
        "colab": {
          "base_uri": "https://localhost:8080/"
        },
        "id": "ofHc1WGqKw4r",
        "outputId": "ff13342b-741c-4f86-e963-43f3cab014d4"
      },
      "outputs": [
        {
          "output_type": "stream",
          "name": "stderr",
          "text": [
            "100%|██████████| 10/10 [01:42<00:00, 10.29s/it]\n"
          ]
        }
      ],
      "source": [
        "epochs = 10\n",
        "\n",
        "for i in tqdm(range(epochs)):\n",
        "  for step in range(max_steps):\n",
        "      # Select batch of data\n",
        "      batch_index = numpy.random.randint(0, max_steps, batch_size)\n",
        "      x_batch = x[batch_index]\n",
        "      y_batch = target_y[batch_index]\n",
        "      # Update the weights by one optimizer step\n",
        "      weights,_,_ = opt.step(cost, weights, x_batch, y_batch)  # Calculating weights using the batches.\n",
        "      c = cost(weights, x, target_y)  # Calculating the cost using the whole train data\n",
        "      cst.append(c)"
      ]
    },
    {
      "cell_type": "code",
      "execution_count": 295,
      "metadata": {
        "colab": {
          "base_uri": "https://localhost:8080/",
          "height": 449
        },
        "id": "1mzZ8cEBMlyf",
        "outputId": "d595f374-b4f9-446d-ecd7-402849da5e59"
      },
      "outputs": [
        {
          "output_type": "display_data",
          "data": {
            "text/plain": [
              "<Figure size 640x480 with 1 Axes>"
            ],
            "image/png": "[encoded data removed]"
          },
          "metadata": {}
        }
      ],
      "source": [
        "plt.plot(range(len(cst)), cst)\n",
        "plt.ylabel(\"Cost\")\n",
        "plt.xlabel(\"Step\")\n",
        "plt.show();"
      ]
    },
    {
      "cell_type": "code",
      "execution_count": 296,
      "metadata": {
        "colab": {
          "base_uri": "https://localhost:8080/"
        },
        "id": "NdDf7mhSAyUk",
        "outputId": "96925546-a50f-4796-fb26-01c4313b2e9c"
      },
      "outputs": [
        {
          "output_type": "stream",
          "name": "stdout",
          "text": [
            "[0.12431051] [0.00115156]\n"
          ]
        }
      ],
      "source": [
        "print(cst[0], (cst[-1]))"
      ]
    },
    {
      "cell_type": "code",
      "execution_count": 305,
      "metadata": {
        "id": "hr1IydXhPgvk"
      },
      "outputs": [],
      "source": [
        "from pennylane.pauli.conversion import Y\n",
        "x_t = np.zeros((test_size//N_QUBITS, r))  # Already grouped and scaled\n",
        "target_y_t = np.zeros((test_size//N_QUBITS,1))\n",
        "for i in range(test_size//N_QUBITS):\n",
        "  x_t[i] = final_test[i][:-1]\n",
        "  target_y_t[i] = final_test[i][-1]\n",
        "\n",
        "y_index = []\n",
        "for i in range(int(N*2/3)+N_QUBITS,N,N_QUBITS):\n",
        "    y_index.append(i)\n",
        "y_index = np.array(y_index)\n",
        "y_index.reshape(16,1)\n",
        "\n",
        "t_predictions = np.zeros((test_size//N_QUBITS,1))\n",
        "for i in range(test_size//N_QUBITS):\n",
        "  t_predictions[i] = (PQC(weights, x_t[i]))\n",
        "t_predictions = t_predictions.reshape((test_size//N_QUBITS, 1))"
      ]
    },
    {
      "cell_type": "code",
      "execution_count": 302,
      "metadata": {
        "colab": {
          "base_uri": "https://localhost:8080/"
        },
        "id": "IyqsPyetPWPY",
        "outputId": "9cd3e8e9-9c71-482e-8640-2b9696d5681e"
      },
      "outputs": [
        {
          "output_type": "execute_result",
          "data": {
            "text/plain": [
              "0.0018253858973802115"
            ]
          },
          "metadata": {},
          "execution_count": 302
        }
      ],
      "source": [
        "metrics.mean_squared_error(t_predictions,target_y_t)"
      ]
    },
    {
      "cell_type": "code",
      "source": [
        "real_predictions = scaler.inverse_transform(t_predictions)\n",
        "print(real_predictions)"
      ],
      "metadata": {
        "colab": {
          "base_uri": "https://localhost:8080/"
        },
        "id": "lT90FuX2CnS2",
        "outputId": "5f473e26-c3af-48eb-c1b9-2876a9050deb"
      },
      "execution_count": 306,
      "outputs": [
        {
          "output_type": "stream",
          "name": "stdout",
          "text": [
            "[[3.60073647]\n",
            " [3.19676248]\n",
            " [2.77408829]\n",
            " [2.49047696]\n",
            " [2.42481382]\n",
            " [2.6102453 ]\n",
            " [3.06786471]\n",
            " [3.72589906]\n",
            " [4.36754381]\n",
            " [4.75431338]\n",
            " [4.76648095]\n",
            " [4.42399521]\n",
            " [3.87321167]\n",
            " [3.34272531]\n",
            " [3.02077543]\n",
            " [2.98033927]]\n"
          ]
        }
      ]
    },
    {
      "cell_type": "code",
      "source": [
        "plt.plot(full_signal)\n",
        "print(len(x_t))\n",
        "print(len(t_predictions))\n",
        "plt.scatter(y_index,real_predictions)"
      ],
      "metadata": {
        "colab": {
          "base_uri": "https://localhost:8080/",
          "height": 482
        },
        "id": "bxxmwCmP_MXR",
        "outputId": "4a82f7fa-13d5-4695-89d0-9b20919d1a33"
      },
      "execution_count": 307,
      "outputs": [
        {
          "output_type": "stream",
          "name": "stdout",
          "text": [
            "16\n",
            "16\n"
          ]
        },
        {
          "output_type": "execute_result",
          "data": {
            "text/plain": [
              "<matplotlib.collections.PathCollection at 0x7fb819ac9120>"
            ]
          },
          "metadata": {},
          "execution_count": 307
        },
        {
          "output_type": "display_data",
          "data": {
            "text/plain": [
              "<Figure size 640x480 with 1 Axes>"
            ],
            "image/png": "[encoded data removed]"
          },
          "metadata": {}
        }
      ]
    }
  ],
  "metadata": {
    "colab": {
      "provenance": [],
      "authorship_tag": "ABX9TyOogZPL9of8P19FR8GAMJNf",
      "include_colab_link": true
    },
    "kernelspec": {
      "display_name": "Python 3",
      "name": "python3"
    },
    "language_info": {
      "name": "python"
    }
  },
  "nbformat": 4,
  "nbformat_minor": 0
}