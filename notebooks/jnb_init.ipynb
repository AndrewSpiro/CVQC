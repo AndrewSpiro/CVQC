{
 "cells": [
  {
   "cell_type": "code",
   "execution_count": 1,
   "metadata": {},
   "outputs": [
    {
     "name": "stdout",
     "output_type": "stream",
     "text": [
      "Requirement already satisfied: jupytext in /data/aspiro/spiroenv/lib/python3.9/site-packages (1.15.0)\n",
      "Requirement already satisfied: nbformat in /data/aspiro/spiroenv/lib/python3.9/site-packages (from jupytext) (5.9.0)\n",
      "Requirement already satisfied: pyyaml in /data/aspiro/spiroenv/lib/python3.9/site-packages (from jupytext) (6.0)\n",
      "Requirement already satisfied: toml in /data/aspiro/spiroenv/lib/python3.9/site-packages (from jupytext) (0.10.2)\n",
      "Requirement already satisfied: markdown-it-py>=1.0.0 in /data/aspiro/spiroenv/lib/python3.9/site-packages (from jupytext) (3.0.0)\n",
      "Requirement already satisfied: mdit-py-plugins in /data/aspiro/spiroenv/lib/python3.9/site-packages (from jupytext) (0.4.0)\n",
      "Requirement already satisfied: mdurl~=0.1 in /data/aspiro/spiroenv/lib/python3.9/site-packages (from markdown-it-py>=1.0.0->jupytext) (0.1.2)\n",
      "Requirement already satisfied: fastjsonschema in /data/aspiro/spiroenv/lib/python3.9/site-packages (from nbformat->jupytext) (2.17.1)\n",
      "Requirement already satisfied: jsonschema>=2.6 in /data/aspiro/spiroenv/lib/python3.9/site-packages (from nbformat->jupytext) (4.17.3)\n",
      "Requirement already satisfied: jupyter-core in /data/aspiro/spiroenv/lib/python3.9/site-packages (from nbformat->jupytext) (5.3.1)\n",
      "Requirement already satisfied: traitlets>=5.1 in /data/aspiro/spiroenv/lib/python3.9/site-packages (from nbformat->jupytext) (5.9.0)\n",
      "Requirement already satisfied: attrs>=17.4.0 in /data/aspiro/spiroenv/lib/python3.9/site-packages (from jsonschema>=2.6->nbformat->jupytext) (23.1.0)\n",
      "Requirement already satisfied: pyrsistent!=0.17.0,!=0.17.1,!=0.17.2,>=0.14.0 in /data/aspiro/spiroenv/lib/python3.9/site-packages (from jsonschema>=2.6->nbformat->jupytext) (0.19.3)\n",
      "Requirement already satisfied: platformdirs>=2.5 in /data/aspiro/spiroenv/lib/python3.9/site-packages (from jupyter-core->nbformat->jupytext) (3.8.0)\n",
      "Note: you may need to restart the kernel to use updated packages.\n",
      "[jupytext] Reading DataPreprocessing.py in format py\n",
      "[jupytext] Writing DataPreprocessing.ipynb\n",
      "[jupytext] Reading Training.py in format py\n",
      "[jupytext] Writing Training.ipynb\n",
      "[jupytext] Reading Testing.py in format py\n",
      "[jupytext] Writing Testing.ipynb\n"
     ]
    }
   ],
   "source": [
    "%pip install jupytext\n",
    "!jupytext --to notebook DataPreprocessing.py\n",
    "!jupytext --to notebook Training.py\n",
    "!jupytext --to notebook Testing.py"
   ]
  }
 ],
 "metadata": {
  "kernelspec": {
   "display_name": "spiroenv",
   "language": "python",
   "name": "python3"
  },
  "language_info": {
   "codemirror_mode": {
    "name": "ipython",
    "version": 3
   },
   "file_extension": ".py",
   "mimetype": "text/x-python",
   "name": "python",
   "nbconvert_exporter": "python",
   "pygments_lexer": "ipython3",
   "version": "3.9.16"
  },
  "orig_nbformat": 4
 },
 "nbformat": 4,
 "nbformat_minor": 2
}
